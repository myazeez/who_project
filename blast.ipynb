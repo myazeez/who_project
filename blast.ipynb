{
 "cells": [
  {
   "cell_type": "code",
   "execution_count": 2,
   "id": "89951fae-a29b-4d16-a1a9-0ffd3a2f99dd",
   "metadata": {},
   "outputs": [
    {
     "name": "stdout",
     "output_type": "stream",
     "text": [
      "Checking if blast+ is installed ...\n",
      "/usr/bin/blastp\n",
      "ncbi blast+ is installed.\n",
      "\n"
     ]
    },
    {
     "name": "stdin",
     "output_type": "stream",
     "text": [
      "Provide the protein symbol:  pbp4\n",
      "Provide the protein reference accession number:  WP_123090655\n"
     ]
    },
    {
     "name": "stdout",
     "output_type": "stream",
     "text": [
      "All neccessary files are already available ...\n",
      "Running blastp ...\n",
      "blastp has finished running ...\n"
     ]
    }
   ],
   "source": [
    "import settings\n",
    "from utils import get_records, download_protein_sequences_from_ncbi\n",
    "import subprocess \n",
    "\n",
    "def blast():\n",
    "    # Workflow\n",
    "    print(\"Checking if blast+ is installed ...\")\n",
    "    result = subprocess.run(\"sh blast_download.sh\", shell=True, capture_output=True, text=True)\n",
    "    result = result.stdout\n",
    "    print(result)\n",
    "    if \"ncbi blast+ is installed.\" not in result:\n",
    "        return False\n",
    "\n",
    "    protein_name = input(\"Provide the protein symbol: \").strip()\n",
    "    reference_acc = input(\"Provide the protein reference accession number: \").strip()\n",
    "    isolate_protein_fasta_file = f\"{settings.OUTPUT_DATA_DIRECTORY_PATH}{protein_name}_{reference_acc}_isolate_protein.fasta\"\n",
    "    ref_protein_fasta_file = f\"{settings.OUTPUT_DATA_DIRECTORY_PATH}{reference_acc}_ref_protein.fasta\"\n",
    "\n",
    "    if settings.UPDATE:\n",
    "        print(\"Preparing microbiggie id file ...\")\n",
    "        microbigge_inp_file = f\"{settings.OUTPUT_DATA_DIRECTORY_PATH}{settings.MICROBIGGE_FILENAME}\"\n",
    "        microbigge_out_file = f\"{settings.OUTPUT_DATA_DIRECTORY_PATH}{settings.MICROBIGGE_OUTPUT_FILENAME}\"\n",
    "        get_records(microbigge_inp_file, microbigge_out_file)\n",
    "        # download_protein_sequences_from_ncbi(microbigge_out_file, isolate_protein_fasta_file, ref_protein_fasta_file,  protein_name, reference_acc, settings.EMAIL)\n",
    "    else:\n",
    "        print(\"All neccessary files are already available ...\")\n",
    "\n",
    "    blast_output_file = f\"{settings.OUTPUT_DATA_DIRECTORY_PATH}{protein_name}_{reference_acc}_blastp_output\"\n",
    "    \n",
    "    print(\"Running blastp ...\")\n",
    "    subprocess.run(\"sh blastp.sh\", shell=True, env={\"QUERY_FILE\": isolate_protein_fasta_file, \"SUBJECT_FILE\": ref_protein_fasta_file, \"OUT_FILE\": blast_output_file})\n",
    "    print(\"blastp has finished running ...\")\n",
    "blast()"
   ]
  },
  {
   "cell_type": "code",
   "execution_count": null,
   "id": "acb3cfb5-be72-45d7-a6da-a16a09ade916",
   "metadata": {},
   "outputs": [],
   "source": []
  }
 ],
 "metadata": {
  "kernelspec": {
   "display_name": "Python 3 (ipykernel)",
   "language": "python",
   "name": "python3"
  },
  "language_info": {
   "codemirror_mode": {
    "name": "ipython",
    "version": 3
   },
   "file_extension": ".py",
   "mimetype": "text/x-python",
   "name": "python",
   "nbconvert_exporter": "python",
   "pygments_lexer": "ipython3",
   "version": "3.10.12"
  }
 },
 "nbformat": 4,
 "nbformat_minor": 5
}
